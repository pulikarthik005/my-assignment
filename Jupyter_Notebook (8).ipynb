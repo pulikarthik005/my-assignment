{
 "cells": [
  {
   "cell_type": "markdown",
   "metadata": {},
   "source": [
    "<center>\n",
    "    <img src=\"https://cf-courses-data.s3.us.cloud-object-storage.appdomain.cloud/IBMDeveloperSkillsNetwork-DS0105EN-SkillsNetwork/labs/Module2/images/SN_web_lightmode.png\" width=\"300\" alt=\"cognitiveclass.ai logo\">\n",
    "</center>\n"
   ]
  },
  {
   "cell_type": "markdown",
   "metadata": {},
   "source": [
    "#### Add your code below following the instructions given in the course\n"
   ]
  },
  {
   "cell_type": "markdown",
   "metadata": {},
   "source": [
    "NOTEBOOK"
   ]
  },
  {
   "cell_type": "markdown",
   "metadata": {
    "tags": []
   },
   "source": [
    "This is peer assignment given by the IBM data science course. the estimated time to complete the assingnment is in 1 hour."
   ]
  },
  {
   "cell_type": "markdown",
   "metadata": {
    "tags": []
   },
   "source": [
    "LIST OF DATA SCIENCE LANGUAGES:-\n",
    "\n",
    "\n",
    "\n",
    "\n",
    "\n",
    "1.python\n",
    "\n",
    "\n",
    "2.R language\n",
    "\n",
    "\n",
    "3.Java\n",
    "\n",
    "\n",
    "4.Javascript\n",
    "\n",
    "\n",
    "5.Scala\n",
    "\n",
    "\n",
    "\n"
   ]
  },
  {
   "cell_type": "markdown",
   "metadata": {
    "tags": []
   },
   "source": [
    "LIST OF DATA SCIENCE LIBRARIES:-\n",
    "\n",
    "\n",
    "\n",
    "1.pandas\n",
    "\n",
    "\n",
    "2.matplotlib\n",
    "\n",
    "\n",
    "\n",
    "3.NUMpy\n",
    "\n",
    "\n",
    "\n",
    "\n",
    "4.Tensoflow\n",
    "\n",
    "\n",
    "\n",
    "\n",
    "\n",
    "5.scikit-learn\n",
    "\n",
    "\n",
    "6.plotly\n",
    "\n",
    "\n",
    "\n",
    "\n",
    "7.scipy\n",
    "\n",
    "\n",
    "\n",
    "\n",
    "\n",
    "\n",
    "8.keras"
   ]
  },
  {
   "cell_type": "markdown",
   "metadata": {},
   "source": [
    "LIST OF DATA SCIENCE TOOLS:-\n",
    "\n",
    "\n",
    "\n",
    "\n",
    "\n",
    "\n",
    "1.jupyter\n",
    "\n",
    "\n",
    "\n",
    "\n",
    "\n",
    "2.tableau\n",
    "\n",
    "\n",
    "\n",
    "\n",
    "\n",
    "\n",
    "3.apache spark\n",
    "\n",
    "\n",
    "\n",
    "\n",
    "4.apache hadoop\n",
    "\n",
    "\n",
    "\n",
    "\n",
    "5.matlab\n",
    "\n",
    "\n",
    "\n",
    "\n",
    "\n",
    "\n",
    "6.microsoft power BI\n",
    "\n",
    "\n",
    "\n",
    "\n",
    "\n",
    "\n",
    "7.Tensorflow"
   ]
  },
  {
   "cell_type": "markdown",
   "metadata": {},
   "source": [
    "This is an introduction on how to perform arithmetic operations using \"code cells\" in jupyter \n"
   ]
  },
  {
   "cell_type": "code",
   "execution_count": 3,
   "metadata": {
    "tags": []
   },
   "outputs": [
    {
     "data": {
      "text/plain": [
       "55722588"
      ]
     },
     "execution_count": 3,
     "metadata": {},
     "output_type": "execute_result"
    }
   ],
   "source": [
    "(2300004+2343545)*12"
   ]
  },
  {
   "cell_type": "markdown",
   "metadata": {},
   "source": [
    "code to convert minutes to hours using code cells:-"
   ]
  },
  {
   "cell_type": "code",
   "execution_count": 2,
   "metadata": {
    "tags": []
   },
   "outputs": [
    {
     "name": "stdout",
     "output_type": "stream",
     "text": [
      "2.0\n"
     ]
    }
   ],
   "source": [
    "def minutes_to_hours(minutes):\n",
    "    return minutes/60\n",
    "minutes=120\n",
    "hours=minutes_to_hours(minutes)\n",
    "print(hours)"
   ]
  },
  {
   "cell_type": "markdown",
   "metadata": {},
   "source": [
    "OBJECTIVES:\n",
    "\n",
    "\n",
    "\n",
    "\n",
    "1.Title of the notebook\n",
    "\n",
    "\n",
    "2.cell for an introduction\n",
    "\n",
    "\n",
    "\n",
    "\n",
    "\n",
    "\n",
    "4.list of data science languages\n",
    "\n",
    "\n",
    "\n",
    "\n",
    "\n",
    "5.list of data science libraries\n",
    "\n",
    "\n",
    "\n",
    "\n",
    "6.list of data science tools\n",
    "\n",
    "\n",
    "\n",
    "\n",
    "\n",
    "\n",
    "\n",
    "7.how to perform arithmetic operations\n",
    "\n",
    "\n",
    "\n",
    "\n",
    "\n",
    "8.how to convert minutes to hours\n"
   ]
  },
  {
   "cell_type": "markdown",
   "metadata": {},
   "source": [
    "puli venkat karthik - author name"
   ]
  },
  {
   "cell_type": "code",
   "execution_count": null,
   "metadata": {},
   "outputs": [],
   "source": []
  }
 ],
 "metadata": {
  "kernelspec": {
   "display_name": "Python",
   "language": "python",
   "name": "conda-env-python-py"
  },
  "language_info": {
   "codemirror_mode": {
    "name": "ipython",
    "version": 3
   },
   "file_extension": ".py",
   "mimetype": "text/x-python",
   "name": "python",
   "nbconvert_exporter": "python",
   "pygments_lexer": "ipython3",
   "version": "3.7.12"
  }
 },
 "nbformat": 4,
 "nbformat_minor": 4
}
