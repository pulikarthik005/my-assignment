{
 "cells": [
  {
   "cell_type": "markdown",
   "metadata": {},
   "source": [
    "<center>\n",
    "    <img src=\"https://cf-courses-data.s3.us.cloud-object-storage.appdomain.cloud/IBMDeveloperSkillsNetwork-DS0105EN-SkillsNetwork/labs/Module2/images/SN_web_lightmode.png\" width=\"300\" alt=\"cognitiveclass.ai logo\">\n",
    "</center>\n"
   ]
  },
  {
   "cell_type": "markdown",
   "metadata": {},
   "source": [
    "#### Add your code below following the instructions given in the course\n"
   ]
  },
  {
   "cell_type": "markdown",
   "metadata": {},
   "source": [
    "NOTEBOOK"
   ]
  },
  {
   "cell_type": "markdown",
   "metadata": {
    "tags": []
   },
   "source": [
    "This is peer assignment given by the IBM data science course. the estimated time to complete the assingnment is in 1 hour."
   ]
  },
  {
   "cell_type": "markdown",
   "metadata": {
    "tags": []
   },
   "source": [
    "LIST OF DATA SCIENCE LANGUAGES:-\n",
    "1.python\n",
    "2.R language\n",
    "3.Java\n",
    "4.Javascript\n",
    "5.Scala"
   ]
  },
  {
   "cell_type": "markdown",
   "metadata": {
    "tags": []
   },
   "source": [
    "LIST OF DATA SCIENCE LIBRARIES:-\n",
    "pandas\n",
    "matplotlib\n",
    "NUMpy\n",
    "Tensoflow\n",
    "scikit-learn\n",
    "plotly\n",
    "scipy\n",
    "keras"
   ]
  },
  {
   "cell_type": "markdown",
   "metadata": {},
   "source": [
    "LIST OF DATA SCIENCE TOOLS:-\n",
    "1.jupyter\n",
    "2.tableau\n",
    "3.apache spark\n",
    "4.apache hadoop\n",
    "5.matlab\n",
    "6.microsoft power BI\n",
    "7.Tensorflow"
   ]
  },
  {
   "cell_type": "markdown",
   "metadata": {},
   "source": [
    "This is an introduction on how to perform arithmetic operations using \"code cells\" in jupyter \n"
   ]
  },
  {
   "cell_type": "code",
   "execution_count": 3,
   "metadata": {
    "tags": []
   },
   "outputs": [
    {
     "data": {
      "text/plain": [
       "55722588"
      ]
     },
     "execution_count": 3,
     "metadata": {},
     "output_type": "execute_result"
    }
   ],
   "source": [
    "(2300004+2343545)*12"
   ]
  },
  {
   "cell_type": "markdown",
   "metadata": {},
   "source": [
    "code to convert minutes to hours using code cells:-"
   ]
  },
  {
   "cell_type": "code",
   "execution_count": 2,
   "metadata": {
    "tags": []
   },
   "outputs": [
    {
     "name": "stdout",
     "output_type": "stream",
     "text": [
      "2.0\n"
     ]
    }
   ],
   "source": [
    "def minutes_to_hours(minutes):\n",
    "    return minutes/60\n",
    "minutes=120\n",
    "hours=minutes_to_hours(minutes)\n",
    "print(hours)"
   ]
  },
  {
   "cell_type": "markdown",
   "metadata": {},
   "source": [
    "OBJECTIVES:\n",
    "1.Title of the notebook\n",
    "2.cell for an introduction\n",
    "4.list of data science languages\n",
    "5.list of data science libraries\n",
    "6.list of data science tools\n",
    "7.how to perform arithmetic operations\n",
    "8.how to convert minutes to hours\n"
   ]
  },
  {
   "cell_type": "markdown",
   "metadata": {},
   "source": [
    "puli venkat karthik - author name"
   ]
  }
 ],
 "metadata": {
  "kernelspec": {
   "display_name": "Python",
   "language": "python",
   "name": "conda-env-python-py"
  },
  "language_info": {
   "codemirror_mode": {
    "name": "ipython",
    "version": 3
   },
   "file_extension": ".py",
   "mimetype": "text/x-python",
   "name": "python",
   "nbconvert_exporter": "python",
   "pygments_lexer": "ipython3",
   "version": "3.7.12"
  }
 },
 "nbformat": 4,
 "nbformat_minor": 4
}
